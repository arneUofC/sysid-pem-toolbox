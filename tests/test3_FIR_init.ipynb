{
 "cells": [
  {
   "cell_type": "code",
   "execution_count": 2,
   "metadata": {},
   "outputs": [],
   "source": [
    "import sys\n",
    "import os\n",
    "#sys.path.insert(0, os.path.abspath('..'))\n",
    "#sys.path.insert(1, '/path/to/application/app/folder')\n",
    "sys.path.append('./../sysid_pem_toolbox')"
   ]
  },
  {
   "cell_type": "code",
   "execution_count": 3,
   "metadata": {},
   "outputs": [],
   "source": [
    "import sysid_pem as sid\n",
    "import numpy as np\n",
    "import scipy as sp\n",
    "import control as ct\n",
    "import matplotlib.pyplot as plt\n",
    "import pandas as pd\n",
    "import importlib"
   ]
  },
  {
   "cell_type": "code",
   "execution_count": 4,
   "metadata": {},
   "outputs": [],
   "source": [
    "data1 = pd.read_excel(\"C:/Users/Arne/OneDrive - University of Calgary/Documents/Data/charging_cycles_selected.xlsx\",sheet_name=\"cycle_11\",header=0).to_numpy()\n",
    "data2 = pd.read_excel(\"C:/Users/Arne/OneDrive - University of Calgary/Documents/Data/charging_cycles_selected.xlsx\",sheet_name=\"cycle_38\",header=0).to_numpy()\n",
    "data3 = pd.read_excel(\"C:/Users/Arne/OneDrive - University of Calgary/Documents/Data/charging_cycles_selected.xlsx\",sheet_name=\"cycle_123\",header=0).to_numpy()\n",
    "data4 = pd.read_excel(\"C:/Users/Arne/OneDrive - University of Calgary/Documents/Data/charging_cycles_selected.xlsx\",sheet_name=\"cycle_200\",header=0).to_numpy()\n"
   ]
  },
  {
   "cell_type": "code",
   "execution_count": 5,
   "metadata": {},
   "outputs": [],
   "source": [
    "u = data4[:,0]\n",
    "y = data4[:,1]\n",
    "\n",
    "u -= u[0]\n",
    "y -= y[0]"
   ]
  },
  {
   "cell_type": "code",
   "execution_count": 5,
   "metadata": {},
   "outputs": [
    {
     "name": "stdout",
     "output_type": "stream",
     "text": [
      "G_init: \n",
      " 5.183 z^6 + 6.113 z^5 + 5.202 z^4 + 5.634 z^3 + 4.591 z^2 + 5.154 z + 2.436\n",
      "-----------------------------------------------------------------------------\n",
      "z^6 - 0.02918 z^5 - 0.1656 z^4 + 0.1186 z^3 - 0.2261 z^2 + 0.1563 z - 0.03915\n",
      "\n",
      "dt = 1\n",
      "\n",
      "poles: [-0.90405727+0.j         -0.13282294+0.65986432j -0.13282294-0.65986432j\n",
      "  0.48413513+0.j          0.35737207+0.26406815j  0.35737207-0.26406815j]\n",
      "zeros: [ 0.53161779+0.77821162j  0.53161779-0.77821162j -0.32167822+0.86039088j\n",
      " -0.32167822-0.86039088j -0.91053646+0.j         -0.68891303+0.j        ]\n"
     ]
    },
    {
     "name": "stderr",
     "output_type": "stream",
     "text": [
      "c:\\Users\\Arne\\miniconda3\\envs\\enel441\\lib\\site-packages\\scipy\\signal\\_filter_design.py:1709: BadCoefficients: Badly conditioned filter coefficients (numerator): the results may be meaningless\n",
      "  warnings.warn(\"Badly conditioned filter coefficients (numerator): the \"\n"
     ]
    },
    {
     "name": "stdout",
     "output_type": "stream",
     "text": [
      "G_init: \n",
      "4.91 z^6 + 9.486 z^5 + 11.01 z^4 + 11.19 z^3 + 6.032 z^2 + 0.2717 z - 10.64\n",
      "---------------------------------------------------------------------------\n",
      "z^6 + 0.7631 z^5 - 0.1946 z^4 + 0.08493 z^3 - 0.5955 z^2 + 0.4742 z - 1.056\n",
      "\n",
      "dt = 1\n",
      "\n",
      "poles: [-1.4317321 +0.j         -0.51761161+0.8962657j  -0.51761161-0.8962657j\n",
      "  0.93483666+0.j          0.38452344+0.76719486j  0.38452344-0.76719486j]\n",
      "zeros: [-1.4317321 +0.j         -0.79689289+0.95050563j -0.79689289-0.95050563j\n",
      "  0.20743434+1.1858999j   0.20743434-1.1858999j   0.67856574+0.j        ]\n"
     ]
    },
    {
     "data": {
      "image/png": "[encoded data removed]",
      "text/plain": [
       "<Figure size 640x480 with 1 Axes>"
      ]
     },
     "metadata": {},
     "output_type": "display_data"
    }
   ],
   "source": [
    "nf = 6\n",
    "nb = 7\n",
    "nc = 1\n",
    "nd = 1\n",
    "na = nf\n",
    "nk = 0\n",
    "n_arx = [na, nb, nk]\n",
    "n_bj = [nb, nc, nd, nf, nk]\n",
    "\n",
    "n_high_order = [10,10,nk]\n",
    "\n",
    "g_imp_est, h_imp_est = sid.FIR_estimates_GH(n_high_order,y,u)\n",
    "\n",
    "n_high_order2 = [10,0,nk]\n",
    "\n",
    "g_imp_est2, h_imp_est2 = sid.FIR_estimates_GH(n_high_order2,y,u)\n",
    "\n",
    "fig,ax = plt.subplots(1)\n",
    "ax.plot(g_imp_est)\n",
    "ax.plot(g_imp_est2,'--')\n",
    "\n",
    "g_imp_est_zero_padded = np.concatenate((g_imp_est,np.zeros(10)))\n",
    "#g_imp_est_zero_padded = g_imp_est\n",
    "\n",
    "\n",
    "#theta_init_bj = sid.tf_realization_GH(g_imp_est_zero_padded,h_imp_est,n_bj)\n",
    "thetaBA = sid.tf_realization_G(g_imp_est_zero_padded,[nf,nb,nk])\n",
    "thetaCD = sid.tf_realization_H(h_imp_est,[nc,nd])\n",
    "theta_init_bj = np.concatenate((thetaBA[0:nb], thetaCD, thetaBA[nb:nb+nf]))\n",
    "\n",
    "G_init, H_init = sid.theta_2_tf_box_jenkins(theta_init_bj,n_bj,1)\n",
    "tt,g_init = ct.impulse_response(G_init)\n",
    "\n",
    "print('G_init:', G_init)\n",
    "print('poles:', G_init.poles())\n",
    "print('zeros:', G_init.zeros())\n",
    "\n",
    "optimization_results_bj = sp.optimize.least_squares(sid.V_box_jenkins, theta_init_bj, jac=sid.jac_V_bj, args=(n_bj,y,u))\n",
    "G_est, H_est = sid.theta_2_tf_box_jenkins(optimization_results_bj.x,n_bj,1)\n",
    "tt,g_est = ct.impulse_response(G_est)\n",
    "\n",
    "print('G_init:', G_est)\n",
    "print('poles:', G_est.poles())\n",
    "print('zeros:', G_est.zeros())\n"
   ]
  },
  {
   "cell_type": "code",
   "execution_count": 6,
   "metadata": {},
   "outputs": [
    {
     "name": "stdout",
     "output_type": "stream",
     "text": [
      "[ 4.47682748e+00  6.30604830e+00  5.34867344e+00  4.92708205e+00\n",
      "  5.13863709e+00  5.22271507e+00  2.49951078e+00  9.09923964e-03\n",
      " -2.14081251e-01 -8.60284350e-03  4.99507356e-02 -1.21535018e-03\n",
      " -7.05491863e-03]\n",
      "\n",
      "     4.477 z^6 + 6.306 z^5 + 5.349 z^4 + 4.927 z^3 + 5.139 z^2 + 5.223 z + 2.5\n",
      "------------------------------------------------------------------------------------\n",
      "z^6 + 0.009099 z^5 - 0.2141 z^4 - 0.008603 z^3 + 0.04995 z^2 - 0.001215 z - 0.007055\n",
      "\n",
      "dt = 1\n",
      "\n",
      "[ 0.42809607+0.j          0.3263774 +0.30047989j  0.3263774 -0.30047989j\n",
      " -0.35009256+0.30375597j -0.35009256-0.30375597j -0.38976499+0.j        ]\n",
      "[ 5.16723154 -4.11648569  2.5889694  -1.13038267  0.54480617  0.34229243\n",
      " -2.23574361 -2.00377219  1.71686789 -1.08390906  0.55547585 -0.15868719\n",
      " -0.01075018]\n",
      "\n",
      "5.167 z^6 - 4.116 z^5 + 2.589 z^4 - 1.13 z^3 + 0.5448 z^2 + 0.3423 z - 2.236\n",
      "----------------------------------------------------------------------------\n",
      " z^6 - 2.004 z^5 + 1.717 z^4 - 1.084 z^3 + 0.5555 z^2 - 0.1587 z - 0.01075\n",
      "\n",
      "dt = 1\n",
      "\n",
      "[-0.05134913+0.63594682j -0.05134913-0.63594682j  0.59717304+0.36600367j\n",
      "  0.59717304-0.36600367j  0.96775111+0.j         -0.05562673+0.j        ]\n",
      "[  5.90647614   6.79464749   4.18258419   2.49965548   0.5858698\n",
      "  -1.18424916 -11.25678715   0.62434407  -0.94736136  -1.28580157\n",
      "   0.10333951   1.40697227  -0.80253984]\n",
      "\n",
      "5.906 z^6 + 6.795 z^5 + 4.183 z^4 + 2.5 z^3 + 0.5859 z^2 - 1.184 z - 11.26\n",
      "--------------------------------------------------------------------------\n",
      "z^6 + 0.6243 z^5 - 0.9474 z^4 - 1.286 z^3 + 0.1033 z^2 + 1.407 z - 0.8025\n",
      "\n",
      "dt = 1\n",
      "\n",
      "[-1.28292317+0.j         -0.72976683+0.94140976j -0.72976683-0.94140976j\n",
      "  0.96308759+0.j          0.57751258+0.35253188j  0.57751258-0.35253188j]\n",
      "[  4.47562818 -12.8483825   12.93654892  -2.28721989  -6.46524616\n",
      "   5.78881751  -1.56293694  -4.27961835   7.60002999  -7.0880447\n",
      "   3.54973339  -0.82497533   0.04339853]\n",
      "\n",
      "4.476 z^6 - 12.85 z^5 + 12.94 z^4 - 2.287 z^3 - 6.465 z^2 + 5.789 z - 1.563\n",
      "---------------------------------------------------------------------------\n",
      "    z^6 - 4.28 z^5 + 7.6 z^4 - 7.088 z^3 + 3.55 z^2 - 0.825 z + 0.0434\n",
      "\n",
      "dt = 1\n",
      "\n",
      "[0.69634802+0.47474269j 0.69634802-0.47474269j 0.93798123+0.15907937j\n",
      " 0.93798123-0.15907937j 0.93907441+0.j         0.07188544+0.j        ]\n"
     ]
    }
   ],
   "source": [
    "importlib.reload(sid)\n",
    "#n_high_order1 = [10,10,nk]\n",
    "#theta1 = sid.V_arx_lin_reg(n_high_order1,y,u)\n",
    "n_high_order2 = [0,10,nk]\n",
    "g_imp_est = sid.V_arx_lin_reg(n_high_order2,y,u)\n",
    "#print(theta1)\n",
    "#print(theta2)\n",
    "\n",
    "g_imp_est_zero_padded = np.concatenate((g_imp_est[0:9],np.zeros(10)))\n",
    "\n",
    "theta_init_oe_fir = sid.tf_realization_G(g_imp_est_zero_padded,[nf,nb,nk])\n",
    "G_init, H_init = sid.theta_2_tf_oe(theta_init_oe_fir,[nb,nf,nk],1)\n",
    "tt,g_init = ct.impulse_response(G_init)\n",
    "\n",
    "print(theta_init_oe_fir)\n",
    "print(G_init)\n",
    "print(G_init.poles())\n",
    "\n",
    "theta_init_oe_arx = sid.get_initial_estimate_output_error_ARX([nb,nf,nk], y, u)\n",
    "G_init2, H_init2 = sid.theta_2_tf_oe(theta_init_oe_arx,[nb,nf,nk],1)\n",
    "tt,g_init2 = ct.impulse_response(G_init2)\n",
    "\n",
    "print(theta_init_oe_arx)\n",
    "print(G_init2)\n",
    "print(G_init2.poles())\n",
    "\n",
    "\n",
    "optimization_results_oe = sp.optimize.least_squares(sid.V_oe, theta_init_oe_fir, jac=sid.jac_V_oe, args=([nb,nf,nk],y,u))\n",
    "G_est, H_est = sid.theta_2_tf_oe(optimization_results_oe.x,[nb,nf,nk],1)\n",
    "tt,g_est = ct.impulse_response(G_est)\n",
    "\n",
    "print(optimization_results_oe.x)\n",
    "print(G_est)\n",
    "print(G_est.poles())\n",
    "\n",
    "optimization_results_oe2 = sp.optimize.least_squares(sid.V_oe, theta_init_oe_arx, jac=sid.jac_V_oe, args=([nb,nf,nk],y,u))\n",
    "G_est2, H_est = sid.theta_2_tf_oe(optimization_results_oe2.x,[nb,nf,nk],1)\n",
    "tt,g_est2 = ct.impulse_response(G_est2)\n",
    "\n",
    "print(optimization_results_oe2.x)\n",
    "print(G_est2)\n",
    "print(G_est2.poles())\n",
    "\n",
    "\n",
    "\n",
    "\n",
    "\n"
   ]
  },
  {
   "cell_type": "code",
   "execution_count": 7,
   "metadata": {},
   "outputs": [
    {
     "data": {
      "text/plain": [
       "(-30.0, 30.0)"
      ]
     },
     "execution_count": 7,
     "metadata": {},
     "output_type": "execute_result"
    },
    {
     "data": {
      "image/png": "[encoded data removed]",
      "text/plain": [
       "<Figure size 640x480 with 1 Axes>"
      ]
     },
     "metadata": {},
     "output_type": "display_data"
    }
   ],
   "source": [
    "fig,ax=plt.subplots(1)\n",
    "#ax.plot(theta1[n_high_order1[0]:n_high_order1[1]+n_high_order1[0]],'k')\n",
    "#ax.plot(theta1,'k')\n",
    "#ax.plot(theta2[n_high_order2[0]:n_high_order2[1]],'--')\n",
    "ax.plot(g_imp_est, 'k')\n",
    "ax.plot(g_init, 'g:')\n",
    "ax.plot(g_init2, 'r--')\n",
    "ax.plot(g_est, 'y')\n",
    "ax.plot(g_est2, 'c')\n",
    "\n",
    "ax.set_ylim([-30, 30])"
   ]
  },
  {
   "cell_type": "code",
   "execution_count": 62,
   "metadata": {},
   "outputs": [
    {
     "name": "stdout",
     "output_type": "stream",
     "text": [
      " active_mask: array([0., 0., 0., 0., 0., 0., 0., 0., 0., 0., 0., 0., 0.])\n",
      "        cost: 2.040372446352566\n",
      "         fun: array([ 0.        , -0.01452208, -0.03039885, -0.04440546, -0.05772543,\n",
      "       -0.07045317, -0.08249474, -0.09508896, -0.10558462, -0.11113787,\n",
      "       -0.22874378,  0.27659036,  0.02246846, -0.28054165, -0.29039208,\n",
      "        0.06362807,  0.27634986,  0.26490878,  0.23139858,  0.19091838,\n",
      "        0.13254028,  0.05758961, -0.02353248, -0.0881369 , -0.110237  ,\n",
      "       -0.09396191, -0.10632945, -0.16294078, -0.23119047, -0.29831804,\n",
      "       -0.35583493, -0.39726312, -0.41356076, -0.40080678, -0.36294428,\n",
      "       -0.31015662, -0.24812676, -0.17741417, -0.10313024, -0.03561532,\n",
      "        0.01990338,  0.07136745,  0.12504696,  0.18552712,  0.25431675,\n",
      "        0.31928102,  0.36831449,  0.39665986,  0.41474295,  0.41333476,\n",
      "        0.40443076,  0.39075621,  0.36115647,  0.3304465 ,  0.30139691,\n",
      "        0.25243667,  0.22116695,  0.18164055,  0.13141383,  0.10309572,\n",
      "        0.06759569,  0.00370768,  0.0060368 , -0.06046301, -0.09278171,\n",
      "       -0.09696042, -0.1532247 , -0.21445048, -0.13400397, -0.31874494,\n",
      "       -0.22303199, -0.27310428, -0.3541361 , -0.372227  , -0.1889427 ])\n",
      "        grad: array([ -5168.86660604,   4034.806357  ,  -3134.15782418,   2427.75358426,\n",
      "        -1884.39475157,   1471.23333895,  -1155.0756391 , -23845.74213112,\n",
      "        18517.21696716, -14354.11343513,  11157.935454  ,  -8719.96134317,\n",
      "         6843.66354309])\n",
      "         jac: array([[ 0.00000000e+00,  0.00000000e+00,  0.00000000e+00,\n",
      "         0.00000000e+00,  0.00000000e+00,  0.00000000e+00,\n",
      "         0.00000000e+00,  0.00000000e+00,  0.00000000e+00,\n",
      "         0.00000000e+00,  0.00000000e+00,  0.00000000e+00,\n",
      "         0.00000000e+00],\n",
      "       [ 0.00000000e+00,  0.00000000e+00,  0.00000000e+00,\n",
      "         0.00000000e+00,  0.00000000e+00,  0.00000000e+00,\n",
      "         0.00000000e+00,  0.00000000e+00,  0.00000000e+00,\n",
      "         0.00000000e+00,  0.00000000e+00,  0.00000000e+00,\n",
      "         0.00000000e+00],\n",
      "       [ 0.00000000e+00,  0.00000000e+00,  0.00000000e+00,\n",
      "         0.00000000e+00,  0.00000000e+00,  0.00000000e+00,\n",
      "         0.00000000e+00,  0.00000000e+00,  0.00000000e+00,\n",
      "         0.00000000e+00,  0.00000000e+00,  0.00000000e+00,\n",
      "         0.00000000e+00],\n",
      "       [ 0.00000000e+00,  0.00000000e+00,  0.00000000e+00,\n",
      "         0.00000000e+00,  0.00000000e+00,  0.00000000e+00,\n",
      "         0.00000000e+00,  0.00000000e+00,  0.00000000e+00,\n",
      "         0.00000000e+00,  0.00000000e+00,  0.00000000e+00,\n",
      "         0.00000000e+00],\n",
      "       [ 0.00000000e+00,  0.00000000e+00,  0.00000000e+00,\n",
      "         0.00000000e+00,  0.00000000e+00,  0.00000000e+00,\n",
      "         0.00000000e+00,  0.00000000e+00,  0.00000000e+00,\n",
      "         0.00000000e+00,  0.00000000e+00,  0.00000000e+00,\n",
      "         0.00000000e+00],\n",
      "       [ 0.00000000e+00,  0.00000000e+00,  0.00000000e+00,\n",
      "         0.00000000e+00,  0.00000000e+00,  0.00000000e+00,\n",
      "         0.00000000e+00,  0.00000000e+00,  0.00000000e+00,\n",
      "         0.00000000e+00,  0.00000000e+00,  0.00000000e+00,\n",
      "         0.00000000e+00],\n",
      "       [ 0.00000000e+00,  0.00000000e+00,  0.00000000e+00,\n",
      "         0.00000000e+00,  0.00000000e+00,  0.00000000e+00,\n",
      "         0.00000000e+00,  0.00000000e+00,  0.00000000e+00,\n",
      "         0.00000000e+00,  0.00000000e+00,  0.00000000e+00,\n",
      "         0.00000000e+00],\n",
      "       [ 0.00000000e+00,  0.00000000e+00,  0.00000000e+00,\n",
      "         0.00000000e+00,  0.00000000e+00,  0.00000000e+00,\n",
      "         0.00000000e+00,  0.00000000e+00,  0.00000000e+00,\n",
      "         0.00000000e+00,  0.00000000e+00,  0.00000000e+00,\n",
      "         0.00000000e+00],\n",
      "       [ 0.00000000e+00,  0.00000000e+00,  0.00000000e+00,\n",
      "         0.00000000e+00,  0.00000000e+00,  0.00000000e+00,\n",
      "         0.00000000e+00,  0.00000000e+00,  0.00000000e+00,\n",
      "         0.00000000e+00,  0.00000000e+00,  0.00000000e+00,\n",
      "         0.00000000e+00],\n",
      "       [ 0.00000000e+00,  0.00000000e+00,  0.00000000e+00,\n",
      "         0.00000000e+00,  0.00000000e+00,  0.00000000e+00,\n",
      "         0.00000000e+00,  0.00000000e+00,  0.00000000e+00,\n",
      "         0.00000000e+00,  0.00000000e+00,  0.00000000e+00,\n",
      "         0.00000000e+00],\n",
      "       [-1.59999996e-01,  0.00000000e+00,  0.00000000e+00,\n",
      "         0.00000000e+00,  0.00000000e+00,  0.00000000e+00,\n",
      "         0.00000000e+00,  0.00000000e+00,  0.00000000e+00,\n",
      "         0.00000000e+00,  0.00000000e+00,  0.00000000e+00,\n",
      "         0.00000000e+00],\n",
      "       [-6.01049473e-02, -1.59999996e-01,  0.00000000e+00,\n",
      "         0.00000000e+00,  0.00000000e+00,  0.00000000e+00,\n",
      "         0.00000000e+00,  9.45036162e-01,  0.00000000e+00,\n",
      "         0.00000000e+00,  0.00000000e+00,  0.00000000e+00,\n",
      "         0.00000000e+00],\n",
      "       [-2.74051644e-01, -6.01049473e-02, -1.59999996e-01,\n",
      "         0.00000000e+00,  0.00000000e+00,  0.00000000e+00,\n",
      "         0.00000000e+00,  8.52124286e-01,  9.45036162e-01,\n",
      "         0.00000000e+00,  0.00000000e+00,  0.00000000e+00,\n",
      "         0.00000000e+00],\n",
      "       [-2.51566829e-01, -2.74051644e-01, -6.01049473e-02,\n",
      "        -1.59999996e-01,  0.00000000e+00,  0.00000000e+00,\n",
      "         0.00000000e+00,  3.05955688e+00,  8.52124286e-01,\n",
      "         9.45036162e-01,  0.00000000e+00,  0.00000000e+00,\n",
      "         0.00000000e+00],\n",
      "       [-3.23310391e-01, -2.51566829e-01, -2.74051644e-01,\n",
      "        -6.01049473e-02, -1.59999996e-01,  0.00000000e+00,\n",
      "         0.00000000e+00,  4.11147906e+00,  3.05955688e+00,\n",
      "         8.52124286e-01,  9.45036162e-01,  0.00000000e+00,\n",
      "         0.00000000e+00],\n",
      "       [-3.17517025e-01, -3.23310391e-01, -2.51566829e-01,\n",
      "        -2.74051644e-01, -6.01049473e-02, -1.59999996e-01,\n",
      "         0.00000000e+00,  6.33868951e+00,  4.11147906e+00,\n",
      "         3.05955688e+00,  8.52124286e-01,  9.45036162e-01,\n",
      "         0.00000000e+00],\n",
      "       [-6.07036935e-01, -3.17517025e-01, -3.23310391e-01,\n",
      "        -2.51566829e-01, -2.74051644e-01, -6.01049473e-02,\n",
      "        -1.59999996e-01,  8.10897328e+00,  6.33868951e+00,\n",
      "         4.11147906e+00,  3.05955688e+00,  8.52124286e-01,\n",
      "         9.45036162e-01],\n",
      "       [-1.34173213e-01, -6.07036935e-01, -3.17517025e-01,\n",
      "        -3.23310391e-01, -2.51566829e-01, -2.74051644e-01,\n",
      "        -6.01049473e-02,  1.14843894e+01,  8.10897328e+00,\n",
      "         6.33868951e+00,  4.11147906e+00,  3.05955688e+00,\n",
      "         8.52124286e-01],\n",
      "       [-8.92156046e-01, -1.34173213e-01, -6.07036935e-01,\n",
      "        -3.17517025e-01, -3.23310391e-01, -2.51566829e-01,\n",
      "        -2.74051644e-01,  1.08160387e+01,  1.14843894e+01,\n",
      "         8.10897328e+00,  6.33868951e+00,  4.11147906e+00,\n",
      "         3.05955688e+00],\n",
      "       [-2.24818813e-01, -8.92156046e-01, -1.34173213e-01,\n",
      "        -6.07036935e-01, -3.17517025e-01, -3.23310391e-01,\n",
      "        -2.51566829e-01,  1.68894932e+01,  1.08160387e+01,\n",
      "         1.14843894e+01,  8.10897328e+00,  6.33868951e+00,\n",
      "         4.11147906e+00],\n",
      "       [-7.87350918e-01, -2.24818813e-01, -8.92156046e-01,\n",
      "        -1.34173213e-01, -6.07036935e-01, -3.17517025e-01,\n",
      "        -3.23310391e-01,  1.44514323e+01,  1.68894932e+01,\n",
      "         1.08160387e+01,  1.14843894e+01,  8.10897328e+00,\n",
      "         6.33868951e+00],\n",
      "       [-4.15412954e-01, -7.87350918e-01, -2.24818813e-01,\n",
      "        -8.92156046e-01, -1.34173213e-01, -6.07036935e-01,\n",
      "        -3.17517025e-01,  1.99613536e+01,  1.44514323e+01,\n",
      "         1.68894932e+01,  1.08160387e+01,  1.14843894e+01,\n",
      "         8.10897328e+00],\n",
      "       [-1.14181597e+00, -4.15412954e-01, -7.87350918e-01,\n",
      "        -2.24818813e-01, -8.92156046e-01, -1.34173213e-01,\n",
      "        -6.07036935e-01,  1.89356537e+01,  1.99613536e+01,\n",
      "         1.44514323e+01,  1.68894932e+01,  1.08160387e+01,\n",
      "         1.14843894e+01],\n",
      "       [ 3.17754939e-01, -1.14181597e+00, -4.15412954e-01,\n",
      "        -7.87350918e-01, -2.24818813e-01, -8.92156046e-01,\n",
      "        -1.34173213e-01,  2.48757195e+01,  1.89356537e+01,\n",
      "         1.99613536e+01,  1.44514323e+01,  1.68894932e+01,\n",
      "         1.08160387e+01],\n",
      "       [-2.29255184e+00,  3.17754939e-01, -1.14181597e+00,\n",
      "        -4.15412954e-01, -7.87350918e-01, -2.24818813e-01,\n",
      "        -8.92156046e-01,  1.86499389e+01,  2.48757195e+01,\n",
      "         1.89356537e+01,  1.99613536e+01,  1.44514323e+01,\n",
      "         1.68894932e+01],\n",
      "       [ 1.07450457e+00, -2.29255184e+00,  3.17754939e-01,\n",
      "        -1.14181597e+00, -4.15412954e-01, -7.87350918e-01,\n",
      "        -2.24818813e-01,  3.47769736e+01,  1.86499389e+01,\n",
      "         2.48757195e+01,  1.89356537e+01,  1.99613536e+01,\n",
      "         1.44514323e+01],\n",
      "       [-2.52357706e+00,  1.07450457e+00, -2.29255184e+00,\n",
      "         3.17754939e-01, -1.14181597e+00, -4.15412954e-01,\n",
      "        -7.87350918e-01,  1.70325278e+01,  3.47769736e+01,\n",
      "         1.86499389e+01,  2.48757195e+01,  1.89356537e+01,\n",
      "         1.99613536e+01],\n",
      "       [ 7.26039051e-01, -2.52357706e+00,  1.07450457e+00,\n",
      "        -2.29255184e+00,  3.17754939e-01, -1.14181597e+00,\n",
      "        -4.15412954e-01,  4.08125637e+01,  1.70325278e+01,\n",
      "         3.47769736e+01,  1.86499389e+01,  2.48757195e+01,\n",
      "         1.89356537e+01],\n",
      "       [-2.74895191e+00,  7.26039051e-01, -2.52357706e+00,\n",
      "         1.07450457e+00, -2.29255184e+00,  3.17754939e-01,\n",
      "        -1.14181597e+00,  2.15213527e+01,  4.08125637e+01,\n",
      "         1.70325278e+01,  3.47769736e+01,  1.86499389e+01,\n",
      "         2.48757195e+01],\n",
      "       [ 2.36882292e+00, -2.74895191e+00,  7.26039051e-01,\n",
      "        -2.52357706e+00,  1.07450457e+00, -2.29255184e+00,\n",
      "         3.17754939e-01,  4.52968220e+01,  2.15213527e+01,\n",
      "         4.08125637e+01,  1.70325278e+01,  3.47769736e+01,\n",
      "         1.86499389e+01],\n",
      "       [-6.40054632e+00,  2.36882292e+00, -2.74895191e+00,\n",
      "         7.26039051e-01, -2.52357706e+00,  1.07450457e+00,\n",
      "        -2.29255184e+00,  1.70520469e+01,  4.52968220e+01,\n",
      "         2.15213527e+01,  4.08125637e+01,  1.70325278e+01,\n",
      "         3.47769736e+01],\n",
      "       [ 6.88357492e+00, -6.40054632e+00,  2.36882292e+00,\n",
      "        -2.74895191e+00,  7.26039051e-01, -2.52357706e+00,\n",
      "         1.07450457e+00,  6.80027990e+01,  1.70520469e+01,\n",
      "         4.52968220e+01,  2.15213527e+01,  4.08125637e+01,\n",
      "         1.70325278e+01],\n",
      "       [-1.02382258e+01,  6.88357492e+00, -6.40054632e+00,\n",
      "         2.36882292e+00, -2.74895191e+00,  7.26039051e-01,\n",
      "        -2.52357706e+00, -5.55986141e+00,  6.80027990e+01,\n",
      "         1.70520469e+01,  4.52968220e+01,  2.15213527e+01,\n",
      "         4.08125637e+01],\n",
      "       [ 8.72915739e+00, -1.02382258e+01,  6.88357492e+00,\n",
      "        -6.40054632e+00,  2.36882292e+00, -2.74895191e+00,\n",
      "         7.26039051e-01,  9.62257736e+01, -5.55986141e+00,\n",
      "         6.80027990e+01,  1.70520469e+01,  4.52968220e+01,\n",
      "         2.15213527e+01],\n",
      "       [-1.13359681e+01,  8.72915739e+00, -1.02382258e+01,\n",
      "         6.88357492e+00, -6.40054632e+00,  2.36882292e+00,\n",
      "        -2.74895191e+00, -1.73846572e+01,  9.62257736e+01,\n",
      "        -5.55986141e+00,  6.80027990e+01,  1.70520469e+01,\n",
      "         4.52968220e+01],\n",
      "       [ 1.22180047e+01, -1.13359681e+01,  8.72915739e+00,\n",
      "        -1.02382258e+01,  6.88357492e+00, -6.40054632e+00,\n",
      "         2.36882292e+00,  1.09069630e+02, -1.73846572e+01,\n",
      "         9.62257736e+01, -5.55986141e+00,  6.80027990e+01,\n",
      "         1.70520469e+01],\n",
      "       [-2.10672118e+01,  1.22180047e+01, -1.13359681e+01,\n",
      "         8.72915739e+00, -1.02382258e+01,  6.88357492e+00,\n",
      "        -6.40054632e+00, -3.32650607e+01,  1.09069630e+02,\n",
      "        -1.73846572e+01,  9.62257736e+01, -5.55986141e+00,\n",
      "         6.80027990e+01],\n",
      "       [ 2.90194250e+01, -2.10672118e+01,  1.22180047e+01,\n",
      "        -1.13359681e+01,  8.72915739e+00, -1.02382258e+01,\n",
      "         6.88357492e+00,  1.63307831e+02, -3.32650607e+01,\n",
      "         1.09069630e+02, -1.73846572e+01,  9.62257736e+01,\n",
      "        -5.55986141e+00],\n",
      "       [-4.18532519e+01,  2.90194250e+01, -2.10672118e+01,\n",
      "         1.22180047e+01, -1.13359681e+01,  8.72915739e+00,\n",
      "        -1.02382258e+01, -1.22061795e+02,  1.63307831e+02,\n",
      "        -3.32650607e+01,  1.09069630e+02, -1.73846572e+01,\n",
      "         9.62257736e+01],\n",
      "       [ 4.80667443e+01, -4.18532519e+01,  2.90194250e+01,\n",
      "        -2.10672118e+01,  1.22180047e+01, -1.13359681e+01,\n",
      "         8.72915739e+00,  2.87893790e+02, -1.22061795e+02,\n",
      "         1.63307831e+02, -3.32650607e+01,  1.09069630e+02,\n",
      "        -1.73846572e+01],\n",
      "       [-5.66180028e+01,  4.80667443e+01, -4.18532519e+01,\n",
      "         2.90194250e+01, -2.10672118e+01,  1.22180047e+01,\n",
      "        -1.13359681e+01, -2.39935081e+02,  2.87893790e+02,\n",
      "        -1.22061795e+02,  1.63307831e+02, -3.32650607e+01,\n",
      "         1.09069630e+02],\n",
      "       [ 6.33582789e+01, -5.66180028e+01,  4.80667443e+01,\n",
      "        -4.18532519e+01,  2.90194250e+01, -2.10672118e+01,\n",
      "         1.22180047e+01,  3.92591551e+02, -2.39935081e+02,\n",
      "         2.87893790e+02, -1.22061795e+02,  1.63307831e+02,\n",
      "        -3.32650607e+01],\n",
      "       [-8.49624872e+01,  6.33582789e+01, -5.66180028e+01,\n",
      "         4.80667443e+01, -4.18532519e+01,  2.90194250e+01,\n",
      "        -2.10672118e+01, -3.36459705e+02,  3.92591551e+02,\n",
      "        -2.39935081e+02,  2.87893790e+02, -1.22061795e+02,\n",
      "         1.63307831e+02],\n",
      "       [ 1.17317909e+02, -8.49624872e+01,  6.33582789e+01,\n",
      "        -5.66180028e+01,  4.80667443e+01, -4.18532519e+01,\n",
      "         2.90194250e+01,  5.56260246e+02, -3.36459705e+02,\n",
      "         3.92591551e+02, -2.39935081e+02,  2.87893790e+02,\n",
      "        -1.22061795e+02],\n",
      "       [-1.67797346e+02,  1.17317909e+02, -8.49624872e+01,\n",
      "         6.33582789e+01, -5.66180028e+01,  4.80667443e+01,\n",
      "        -4.18532519e+01, -6.29656296e+02,  5.56260246e+02,\n",
      "        -3.36459705e+02,  3.92591551e+02, -2.39935081e+02,\n",
      "         2.87893790e+02],\n",
      "       [ 2.18188857e+02, -1.67797346e+02,  1.17317909e+02,\n",
      "        -8.49624872e+01,  6.33582789e+01, -5.66180028e+01,\n",
      "         4.80667443e+01,  1.02544595e+03, -6.29656296e+02,\n",
      "         5.56260246e+02, -3.36459705e+02,  3.92591551e+02,\n",
      "        -2.39935081e+02],\n",
      "       [-2.70303652e+02,  2.18188857e+02, -1.67797346e+02,\n",
      "         1.17317909e+02, -8.49624872e+01,  6.33582789e+01,\n",
      "        -5.66180028e+01, -1.22166711e+03,  1.02544595e+03,\n",
      "        -6.29656296e+02,  5.56260246e+02, -3.36459705e+02,\n",
      "         3.92591551e+02],\n",
      "       [ 3.17815915e+02, -2.70303652e+02,  2.18188857e+02,\n",
      "        -1.67797346e+02,  1.17317909e+02, -8.49624872e+01,\n",
      "         6.33582789e+01,  1.66564162e+03, -1.22166711e+03,\n",
      "         1.02544595e+03, -6.29656296e+02,  5.56260246e+02,\n",
      "        -3.36459705e+02],\n",
      "       [-3.90022874e+02,  3.17815915e+02, -2.70303652e+02,\n",
      "         2.18188857e+02, -1.67797346e+02,  1.17317909e+02,\n",
      "        -8.49624872e+01, -1.85622129e+03,  1.66564162e+03,\n",
      "        -1.22166711e+03,  1.02544595e+03, -6.29656296e+02,\n",
      "         5.56260246e+02],\n",
      "       [ 5.04569106e+02, -3.90022874e+02,  3.17815915e+02,\n",
      "        -2.70303652e+02,  2.18188857e+02, -1.67797346e+02,\n",
      "         1.17317909e+02,  2.40264555e+03, -1.85622129e+03,\n",
      "         1.66564162e+03, -1.22166711e+03,  1.02544595e+03,\n",
      "        -6.29656296e+02],\n",
      "       [-6.89745807e+02,  5.04569106e+02, -3.90022874e+02,\n",
      "         3.17815915e+02, -2.70303652e+02,  2.18188857e+02,\n",
      "        -1.67797346e+02, -2.92846167e+03,  2.40264555e+03,\n",
      "        -1.85622129e+03,  1.66564162e+03, -1.22166711e+03,\n",
      "         1.02544595e+03],\n",
      "       [ 9.29568009e+02, -6.89745807e+02,  5.04569106e+02,\n",
      "        -3.90022874e+02,  3.17815915e+02, -2.70303652e+02,\n",
      "         2.18188857e+02,  4.09786025e+03, -2.92846167e+03,\n",
      "         2.40264555e+03, -1.85622129e+03,  1.66564162e+03,\n",
      "        -1.22166711e+03],\n",
      "       [-1.20897591e+03,  9.29568009e+02, -6.89745807e+02,\n",
      "         5.04569106e+02, -3.90022874e+02,  3.17815915e+02,\n",
      "        -2.70303652e+02, -5.36515958e+03,  4.09786025e+03,\n",
      "        -2.92846167e+03,  2.40264555e+03, -1.85622129e+03,\n",
      "         1.66564162e+03],\n",
      "       [ 1.50008689e+03, -1.20897591e+03,  9.29568009e+02,\n",
      "        -6.89745807e+02,  5.04569106e+02, -3.90022874e+02,\n",
      "         3.17815915e+02,  7.17704345e+03, -5.36515958e+03,\n",
      "         4.09786025e+03, -2.92846167e+03,  2.40264555e+03,\n",
      "        -1.85622129e+03],\n",
      "       [-1.83847306e+03,  1.50008689e+03, -1.20897591e+03,\n",
      "         9.29568009e+02, -6.89745807e+02,  5.04569106e+02,\n",
      "        -3.90022874e+02, -8.85161751e+03,  7.17704345e+03,\n",
      "        -5.36515958e+03,  4.09786025e+03, -2.92846167e+03,\n",
      "         2.40264555e+03],\n",
      "       [ 2.29362992e+03, -1.83847306e+03,  1.50008689e+03,\n",
      "        -1.20897591e+03,  9.29568009e+02, -6.89745807e+02,\n",
      "         5.04569106e+02,  1.10628019e+04, -8.85161751e+03,\n",
      "         7.17704345e+03, -5.36515958e+03,  4.09786025e+03,\n",
      "        -2.92846167e+03],\n",
      "       [-2.98154842e+03,  2.29362992e+03, -1.83847306e+03,\n",
      "         1.50008689e+03, -1.20897591e+03,  9.29568009e+02,\n",
      "        -6.89745807e+02, -1.36150916e+04,  1.10628019e+04,\n",
      "        -8.85161751e+03,  7.17704345e+03, -5.36515958e+03,\n",
      "         4.09786025e+03],\n",
      "       [ 3.96232960e+03, -2.98154842e+03,  2.29362992e+03,\n",
      "        -1.83847306e+03,  1.50008689e+03, -1.20897591e+03,\n",
      "         9.29568009e+02,  1.77059305e+04, -1.36150916e+04,\n",
      "         1.10628019e+04, -8.85161751e+03,  7.17704345e+03,\n",
      "        -5.36515958e+03],\n",
      "       [-5.24031290e+03,  3.96232960e+03, -2.98154842e+03,\n",
      "         2.29362992e+03, -1.83847306e+03,  1.50008689e+03,\n",
      "        -1.20897591e+03, -2.32065909e+04,  1.77059305e+04,\n",
      "        -1.36150916e+04,  1.10628019e+04, -8.85161751e+03,\n",
      "         7.17704345e+03],\n",
      "       [ 6.74521412e+03, -5.24031290e+03,  3.96232960e+03,\n",
      "        -2.98154842e+03,  2.29362992e+03, -1.83847306e+03,\n",
      "         1.50008689e+03,  3.08379658e+04, -2.32065909e+04,\n",
      "         1.77059305e+04, -1.36150916e+04,  1.10628019e+04,\n",
      "        -8.85161751e+03],\n",
      "       [-8.47560461e+03,  6.74521412e+03, -5.24031290e+03,\n",
      "         3.96232960e+03, -2.98154842e+03,  2.29362992e+03,\n",
      "        -1.83847306e+03, -3.97231902e+04,  3.08379658e+04,\n",
      "        -2.32065909e+04,  1.77059305e+04, -1.36150916e+04,\n",
      "         1.10628019e+04],\n",
      "       [ 1.05699063e+04, -8.47560461e+03,  6.74521412e+03,\n",
      "        -5.24031290e+03,  3.96232960e+03, -2.98154842e+03,\n",
      "         2.29362992e+03,  5.03921619e+04, -3.97231902e+04,\n",
      "         3.08379658e+04, -2.32065909e+04,  1.77059305e+04,\n",
      "        -1.36150916e+04],\n",
      "       [-1.33820396e+04,  1.05699063e+04, -8.47560461e+03,\n",
      "         6.74521412e+03, -5.24031290e+03,  3.96232960e+03,\n",
      "        -2.98154842e+03, -6.28720119e+04,  5.03921619e+04,\n",
      "        -3.97231902e+04,  3.08379658e+04, -2.32065909e+04,\n",
      "         1.77059305e+04],\n",
      "       [ 1.73262674e+04, -1.33820396e+04,  1.05699063e+04,\n",
      "        -8.47560461e+03,  6.74521412e+03, -5.24031290e+03,\n",
      "         3.96232960e+03,  7.96021784e+04, -6.28720119e+04,\n",
      "         5.03921619e+04, -3.97231902e+04,  3.08379658e+04,\n",
      "        -2.32065909e+04],\n",
      "       [-2.27245618e+04,  1.73262674e+04, -1.33820396e+04,\n",
      "         1.05699063e+04, -8.47560461e+03,  6.74521412e+03,\n",
      "        -5.24031290e+03, -1.02363671e+05,  7.96021784e+04,\n",
      "        -6.28720119e+04,  5.03921619e+04, -3.97231902e+04,\n",
      "         3.08379658e+04],\n",
      "       [ 2.96413289e+04, -2.27245618e+04,  1.73262674e+04,\n",
      "        -1.33820396e+04,  1.05699063e+04, -8.47560461e+03,\n",
      "         6.74521412e+03,  1.33922983e+05, -1.02363671e+05,\n",
      "         7.96021784e+04, -6.28720119e+04,  5.03921619e+04,\n",
      "        -3.97231902e+04],\n",
      "       [-3.80474599e+04,  2.96413289e+04, -2.27245618e+04,\n",
      "         1.73262674e+04, -1.33820396e+04,  1.05699063e+04,\n",
      "        -8.47560461e+03, -1.74508331e+05,  1.33922983e+05,\n",
      "        -1.02363671e+05,  7.96021784e+04, -6.28720119e+04,\n",
      "         5.03921619e+04],\n",
      "       [ 4.81367601e+04, -3.80474599e+04,  2.96413289e+04,\n",
      "        -2.27245618e+04,  1.73262674e+04, -1.33820396e+04,\n",
      "         1.05699063e+04,  2.24893363e+05, -1.74508331e+05,\n",
      "         1.33922983e+05, -1.02363671e+05,  7.96021784e+04,\n",
      "        -6.28720119e+04],\n",
      "       [-6.07547397e+04,  4.81367601e+04, -3.80474599e+04,\n",
      "         2.96413289e+04, -2.27245618e+04,  1.73262674e+04,\n",
      "        -1.33820396e+04, -2.85400793e+05,  2.24893363e+05,\n",
      "        -1.74508331e+05,  1.33922983e+05, -1.02363671e+05,\n",
      "         7.96021784e+04],\n",
      "       [ 7.74278522e+04, -6.07547397e+04,  4.81367601e+04,\n",
      "        -3.80474599e+04,  2.96413289e+04, -2.27245618e+04,\n",
      "         1.73262674e+04,  3.60938899e+05, -2.85400793e+05,\n",
      "         2.24893363e+05, -1.74508331e+05,  1.33922983e+05,\n",
      "        -1.02363671e+05],\n",
      "       [-1.00014240e+05,  7.74278522e+04, -6.07547397e+04,\n",
      "         4.81367601e+04, -3.80474599e+04,  2.96413289e+04,\n",
      "        -2.27245618e+04, -4.59091378e+05,  3.60938899e+05,\n",
      "        -2.85400793e+05,  2.24893363e+05, -1.74508331e+05,\n",
      "         1.33922983e+05],\n",
      "       [ 1.30022392e+05, -1.00014240e+05,  7.74278522e+04,\n",
      "        -6.07547397e+04,  4.81367601e+04, -3.80474599e+04,\n",
      "         2.96413289e+04,  5.91379579e+05, -4.59091378e+05,\n",
      "         3.60938899e+05, -2.85400793e+05,  2.24893363e+05,\n",
      "        -1.74508331e+05],\n",
      "       [-1.68354966e+05,  1.30022392e+05, -1.00014240e+05,\n",
      "         7.74278522e+04, -6.07547397e+04,  4.81367601e+04,\n",
      "        -3.80474599e+04, -7.67018067e+05,  5.91379579e+05,\n",
      "        -4.59091378e+05,  3.60938899e+05, -2.85400793e+05,\n",
      "         2.24893363e+05],\n",
      "       [ 2.15801535e+05, -1.68354966e+05,  1.30022392e+05,\n",
      "        -1.00014240e+05,  7.74278522e+04, -6.07547397e+04,\n",
      "         4.81367601e+04,  9.93581987e+05, -7.67018067e+05,\n",
      "         5.91379579e+05, -4.59091378e+05,  3.60938899e+05,\n",
      "        -2.85400793e+05],\n",
      "       [-2.74406080e+05,  2.15801535e+05, -1.68354966e+05,\n",
      "         1.30022392e+05, -1.00014240e+05,  7.74278522e+04,\n",
      "        -6.07547397e+04, -1.27600632e+06,  9.93581987e+05,\n",
      "        -7.67018067e+05,  5.91379579e+05, -4.59091378e+05,\n",
      "         3.60938899e+05]])\n",
      "     message: 'The maximum number of function evaluations is exceeded.'\n",
      "        nfev: 1300\n",
      "        njev: 1289\n",
      "  optimality: 23845.74213112\n",
      "      status: 0\n",
      "     success: False\n",
      "           x: array([  5.90647614,   6.79464749,   4.18258419,   2.49965548,\n",
      "         0.5858698 ,  -1.18424916, -11.25678715,   0.62434407,\n",
      "        -0.94736136,  -1.28580157,   0.10333951,   1.40697227,\n",
      "        -0.80253984])\n"
     ]
    }
   ],
   "source": [
    "print(optimization_results_oe)"
   ]
  },
  {
   "cell_type": "code",
   "execution_count": 8,
   "metadata": {},
   "outputs": [
    {
     "data": {
      "text/plain": [
       "<matplotlib.legend.Legend at 0x22a8d3bb9d0>"
      ]
     },
     "execution_count": 8,
     "metadata": {},
     "output_type": "execute_result"
    },
    {
     "data": {
      "image/png": "[encoded data removed]",
      "text/plain": [
       "<Figure size 640x480 with 1 Axes>"
      ]
     },
     "metadata": {},
     "output_type": "display_data"
    }
   ],
   "source": [
    "\n",
    "tt,y_sim_est = ct.forced_response(G_est,U=u-u[0])\n",
    "tt,y_sim_init = ct.forced_response(G_init,U=u-u[0])\n",
    "tt,y_sim_est2 = ct.forced_response(G_est2,U=u-u[0])\n",
    "tt,y_sim_init2 = ct.forced_response(G_init2,U=u-u[0])\n",
    "\n",
    "#y_hat = sid.y_hat_box_jenkins(optimization_results_bj.x, n_bj, y-y[0], u-u[0])\n",
    "\n",
    "\n",
    "#y_hat_init = sid.y_hat_box_jenkins(theta_init_bj, n_bj, y-y[0], u-u[0])\n",
    "\n",
    "fig,ax = plt.subplots(1)\n",
    "ax.plot(u-u[0])\n",
    "ax.plot(y-y[0],'k')\n",
    "#ax.plot(y_hat_init,'r--')\n",
    "#ax.plot(y_hat,'g:')\n",
    "ax.plot(y_sim_est, label='est fir')\n",
    "ax.plot(y_sim_init, label='init fir')\n",
    "ax.plot(y_sim_est2, label='est arx')\n",
    "ax.plot(y_sim_init2, label='init arx')\n",
    "#ax.set_ylim([0,30])\n",
    "ax.legend()"
   ]
  },
  {
   "cell_type": "code",
   "execution_count": 17,
   "metadata": {},
   "outputs": [
    {
     "data": {
      "text/plain": [
       "[<matplotlib.lines.Line2D at 0x23180bb8520>]"
      ]
     },
     "execution_count": 17,
     "metadata": {},
     "output_type": "execute_result"
    },
    {
     "data": {
      "image/png": "[encoded data removed]",
      "text/plain": [
       "<Figure size 640x480 with 1 Axes>"
      ]
     },
     "metadata": {},
     "output_type": "display_data"
    }
   ],
   "source": [
    "importlib.reload(sid)\n",
    "n_oe = np.array([6,5,0])\n",
    "n_high_order_oe = 10\n",
    "optimization_results_oe = sid.estimate_oe(n_oe,n_high_order_oe,y,u)\n",
    "G_est, H_est = sid.theta_2_tf_oe(optimization_results_oe.x,n_oe,1)\n",
    "tt,y_sim_est = ct.forced_response(G_est,U=u-u[0])\n",
    "fig,ax = plt.subplots(1)\n",
    "ax.plot(u-u[0])\n",
    "ax.plot(y-y[0],'k')\n",
    "ax.plot(y_sim_est, label='est fir')"
   ]
  },
  {
   "cell_type": "code",
   "execution_count": 13,
   "metadata": {},
   "outputs": [
    {
     "name": "stderr",
     "output_type": "stream",
     "text": [
      "C:\\Users\\Arne\\AppData\\Local\\Temp\\ipykernel_15952\\1667608770.py:3: RuntimeWarning: divide by zero encountered in divide\n",
      "  G_est3 = Y/U\n"
     ]
    },
    {
     "data": {
      "text/plain": [
       "[<matplotlib.lines.Line2D at 0x22a8fde3ca0>]"
      ]
     },
     "execution_count": 13,
     "metadata": {},
     "output_type": "execute_result"
    },
    {
     "data": {
      "image/png": "[encoded data removed]",
      "text/plain": [
       "<Figure size 640x480 with 2 Axes>"
      ]
     },
     "metadata": {},
     "output_type": "display_data"
    },
    {
     "data": {
      "image/png": "[encoded data removed]",
      "text/plain": [
       "<Figure size 640x480 with 1 Axes>"
      ]
     },
     "metadata": {},
     "output_type": "display_data"
    }
   ],
   "source": [
    "U = np.fft.fft(u)\n",
    "Y = np.fft.fft(y)\n",
    "G_est3 = Y/U\n",
    "\n",
    "N = u.shape[0]\n",
    "G_est2b = np.fft.fft(g_est2[0:N])\n",
    "\n",
    "fig,ax = plt.subplots(2,1)\n",
    "ax[0].plot(np.abs(U))\n",
    "ax[1].plot(np.abs(Y))\n",
    "\n",
    "fig,ax = plt.subplots(1)\n",
    "ax.plot(np.abs(G_est3))\n",
    "ax.plot(np.abs(G_est2b))"
   ]
  },
  {
   "cell_type": "code",
   "execution_count": 8,
   "metadata": {},
   "outputs": [
    {
     "ename": "AttributeError",
     "evalue": "module 'sysid_pem' has no attribute 'get_initial_estimate_output_error'",
     "output_type": "error",
     "traceback": [
      "\u001b[1;31m---------------------------------------------------------------------------\u001b[0m",
      "\u001b[1;31mAttributeError\u001b[0m                            Traceback (most recent call last)",
      "Cell \u001b[1;32mIn [8], line 4\u001b[0m\n\u001b[0;32m      2\u001b[0m n_oe \u001b[38;5;241m=\u001b[39m [\u001b[38;5;241m5\u001b[39m,\u001b[38;5;241m4\u001b[39m,\u001b[38;5;241m0\u001b[39m]\n\u001b[0;32m      3\u001b[0m theta_fir \u001b[38;5;241m=\u001b[39m sid\u001b[38;5;241m.\u001b[39mV_arx_lin_reg([\u001b[38;5;241m0\u001b[39m, \u001b[38;5;241m10\u001b[39m, \u001b[38;5;241m0\u001b[39m],y,u)\n\u001b[1;32m----> 4\u001b[0m theta_init_oe \u001b[38;5;241m=\u001b[39m \u001b[43msid\u001b[49m\u001b[38;5;241;43m.\u001b[39;49m\u001b[43mget_initial_estimate_output_error\u001b[49m(n_oe, \u001b[38;5;241m10\u001b[39m, y,u)\n\u001b[0;32m      5\u001b[0m G_init, H_init \u001b[38;5;241m=\u001b[39m sid\u001b[38;5;241m.\u001b[39mtheta_2_tf_oe(theta_init_oe,n_oe,\u001b[38;5;241m1\u001b[39m)\n\u001b[0;32m      6\u001b[0m tt,g_init \u001b[38;5;241m=\u001b[39m ct\u001b[38;5;241m.\u001b[39mimpulse_response(G_init)\n",
      "\u001b[1;31mAttributeError\u001b[0m: module 'sysid_pem' has no attribute 'get_initial_estimate_output_error'"
     ]
    }
   ],
   "source": [
    "importlib.reload(sid)\n",
    "n_oe = [5,4,0]\n",
    "theta_fir = sid.V_arx_lin_reg([0, 10, 0],y,u)\n",
    "theta_init_oe = sid.get_initial_estimate_output_error(n_oe, 10, y,u)\n",
    "G_init, H_init = sid.theta_2_tf_oe(theta_init_oe,n_oe,1)\n",
    "tt,g_init = ct.impulse_response(G_init)\n",
    "\n",
    "fig,ax = plt.subplots(1)\n",
    "ax.plot(g_init[0:10])\n",
    "ax.plot(theta_fir)"
   ]
  },
  {
   "cell_type": "code",
   "execution_count": 15,
   "metadata": {},
   "outputs": [
    {
     "name": "stdout",
     "output_type": "stream",
     "text": [
      "<class 'numpy.int32'>\n"
     ]
    }
   ],
   "source": [
    "print(type(n_oe[0]))"
   ]
  },
  {
   "cell_type": "code",
   "execution_count": null,
   "metadata": {},
   "outputs": [
    {
     "name": "stdout",
     "output_type": "stream",
     "text": [
      "[0.  0.5]\n",
      "[[0.   0.   0.   0.   0.  ]\n",
      " [0.   0.5  0.   0.   0.  ]\n",
      " [0.   0.   0.   0.   0.  ]\n",
      " [0.   0.   0.   0.8  0.  ]\n",
      " [0.   0.   0.   0.   2.24]]\n"
     ]
    }
   ],
   "source": [
    "def V_oe_time_domain(theta, n, y, u, Ts):\n",
    "    np = n[0]\n",
    "    c_vec = theta[0:np] + 1j*theta[np:2*np]\n",
    "    p_vec = theta[2*np:3*np] + 1j*theta[3*np:4*np]\n",
    "\n",
    "    N = u.shape[0]\n",
    "    t = np.linspace(0,N*Ts-Ts,N)\n",
    "    g_imp = np.zeros(N)\n",
    "    for ii in range(np):\n",
    "        g_imp += c_vec[ii]*np.exp(p_vec[ii]*t)\n",
    "    y_hat = np.convolve(g_imp,u,mode='same')\n",
    "\n",
    "    return y-y_hat\n",
    "    \n"
   ]
  },
  {
   "cell_type": "code",
   "execution_count": 18,
   "metadata": {},
   "outputs": [
    {
     "data": {
      "text/plain": [
       "array([1.+2.j, 1.+3.j])"
      ]
     },
     "execution_count": 18,
     "metadata": {},
     "output_type": "execute_result"
    }
   ],
   "source": [
    "np.array([1, 1]) + 1j*np.array([2, 3])"
   ]
  },
  {
   "cell_type": "code",
   "execution_count": 43,
   "metadata": {},
   "outputs": [],
   "source": [
    "#Jury table\n",
    "def print_jury_table(den):\n",
    "    r1 = den\n",
    "    r2 = np.flip(den)\n",
    "    r3 = r1 - r2*r1[-1]/r2[-1]\n",
    "    r4 = np.flip(r3[0:-1])\n",
    "    r5 = r3[0:-1] - r4*r3[-2]/r4[-1]\n",
    "    r6 = np.flip(r5[0:-1])\n",
    "\n",
    "    print(r1)\n",
    "    print(r2)\n",
    "    print(r3)\n",
    "    print(r4)\n",
    "    print(r5)\n",
    "    print(r6)"
   ]
  },
  {
   "cell_type": "code",
   "execution_count": 44,
   "metadata": {},
   "outputs": [],
   "source": [
    "def linear_least_squares(theta,A,b):\n",
    "    return (A @ theta - b)\n",
    "\n",
    "def linear_least_squares2(theta,A,b):\n",
    "    return np.sum((A @ theta - b)**2)\n",
    "\n",
    "def jac2(theta,A,b):\n",
    "    return 2*A.T @ ( A@theta - b) \n",
    "\n",
    "def my_derivative(theta,A,b):\n",
    "    jac = np.empty(theta.shape[0])\n",
    "    for ii in range(theta.shape[0]):\n",
    "        theta_p1 = theta.copy()\n",
    "        theta_p1[ii] += 0.001\n",
    "        jac[ii] = (linear_least_squares2(theta_p1,A,b) - linear_least_squares2(theta,A,b) )/0.001\n",
    "    return jac\n"
   ]
  },
  {
   "cell_type": "code",
   "execution_count": 45,
   "metadata": {},
   "outputs": [
    {
     "name": "stdout",
     "output_type": "stream",
     "text": [
      "(array([-inf, -inf, -inf, -inf, -inf, -inf, -inf, -inf,   0.]), array([inf, inf, inf, inf, inf, inf, inf, inf, inf]))\n",
      "[[-inf, inf], [-inf, inf], [-inf, inf], [-inf, inf], [-inf, inf], [-inf, inf], [-inf, inf], [-inf, inf], [0.0, inf]]\n",
      "[-26.65048036 -47.21749862  -3.83126769  -2.49044993  -1.93421315\n",
      " 731.26999744 118.96759643  86.09581526  68.76195494]\n",
      "[-26.64948036 -47.21649862  -3.83026769  -2.48944993  -1.93321315\n",
      " 732.01296758 119.71056658  86.8387854   69.50492508]\n",
      "[ 1.33252402e+01  1.21373560e+01 -1.60386894e+01  2.61781300e+00\n",
      " -1.85562282e+00 -8.60877039e-01  1.77850976e-01 -8.83380619e-02\n",
      " -4.42018224e-04]\n",
      "[ 1.33252402e+01  1.21355865e+01 -1.59258915e+01  2.70261832e+00\n",
      " -2.04644590e+00 -8.61009831e-01  1.86551225e-01 -9.73692153e-02\n",
      "  1.03675968e-09]\n",
      "[ 13.32523967  12.03582972 -15.96629758   2.88797237  -2.11037354\n",
      "  -0.86849544   0.19678187  -0.10051175   0.        ]\n",
      "0.11394569628933002\n",
      "0.11395454937774839\n",
      "0.11394569628933002\n",
      "0.11395454937774839\n",
      "\n",
      "13.33 z^4 + 12.14 z^3 - 16.04 z^2 + 2.618 z - 1.856\n",
      "----------------------------------------------------\n",
      "z^4 - 0.8609 z^3 + 0.1779 z^2 - 0.08834 z - 0.000442\n",
      "\n",
      "dt = 1\n",
      "\n",
      "[ 0.77906978+0.j          0.04338019+0.33565653j  0.04338019-0.33565653j\n",
      " -0.00495313+0.j        ]\n",
      "\n",
      "13.33 z^4 + 12.14 z^3 - 15.93 z^2 + 2.703 z - 2.046\n",
      "----------------------------------------------------\n",
      "z^4 - 0.861 z^3 + 0.1866 z^2 - 0.09737 z + 1.037e-09\n",
      "\n",
      "dt = 1\n",
      "\n",
      "[7.81707098e-01+0.j         3.96513613e-02+0.35069572j\n",
      " 3.96513613e-02-0.35069572j 1.06477155e-08+0.j        ]\n",
      "\n",
      "13.33 z^4 + 12.04 z^3 - 15.97 z^2 + 2.888 z - 2.11\n",
      "--------------------------------------------------\n",
      "     z^4 - 0.8685 z^3 + 0.1968 z^2 - 0.1005 z\n",
      "\n",
      "dt = 1\n",
      "\n",
      "[0.7812892 +0.j         0.04360312+0.35601594j 0.04360312-0.35601594j\n",
      " 0.        +0.j        ]\n"
     ]
    }
   ],
   "source": [
    "def tf_realization_GH(g,h,n):\n",
    "    \n",
    "    nb = n[0]\n",
    "    nc = n[1]\n",
    "    nd = n[2]\n",
    "    na = n[3]\n",
    "    nk = n[4]\n",
    "\n",
    "    nh = h.shape[0]-1\n",
    "    ng = g.shape[0]-nk\n",
    "    \n",
    "    # Create Toeplitz matrix for G transfer function realization\n",
    "    Cg = np.array(sp.linalg.toeplitz(np.concatenate(([0],g[nk:nk+ng-1])),r=np.zeros(na)))\n",
    "    Meye = np.concatenate((np.eye(nb), np.zeros((ng-nb,nb))),axis=0)\n",
    "    M = np.concatenate((Meye,-Cg),axis=1)\n",
    "    thetaBA = np.linalg.inv( M.T @ M ) @ (M.T @ g[nk:ng+nk] )\n",
    "    \n",
    "    theta_init = np.zeros(nb+na)\n",
    "    bounds = np.ones((nb+na,2))\n",
    "    bounds[:,0] *= -np.inf\n",
    "    bounds[:,1] *= np.inf\n",
    "    bounds[nb+na-1,0] = 0\n",
    "    bounds_x = (bounds[:,0], bounds[:,1])\n",
    "    print( bounds_x )\n",
    "    bounds_x2 = bounds.tolist()\n",
    "    print(bounds_x2)\n",
    "\n",
    "    print(jac2(theta_init,M,g[nk:ng+nk]))\n",
    "    print(my_derivative(theta_init,M,g[nk:ng+nk]))\n",
    "\n",
    "    optimization_results1 = sp.optimize.least_squares(linear_least_squares, theta_init, args= (M, g[nk:ng+nk]), bounds=bounds_x)\n",
    "    optimization_results2 = sp.optimize.minimize(linear_least_squares2, theta_init, args= (M, g[nk:ng+nk]), bounds=bounds_x2, jac=jac2)\n",
    "\n",
    "\n",
    "    #print(optimization_results1)\n",
    "    #print(optimization_results2)\n",
    "    print(thetaBA)\n",
    "    print(optimization_results1.x)\n",
    "    print(optimization_results2.x)\n",
    "\n",
    "\n",
    "\n",
    "    print(np.sum(linear_least_squares(optimization_results1.x,M,g[nk:ng+nk])**2))\n",
    "    print(np.sum(linear_least_squares(optimization_results2.x,M,g[nk:ng+nk])**2))\n",
    "    print(linear_least_squares2(optimization_results1.x,M,g[nk:ng+nk]))\n",
    "    print(linear_least_squares2(optimization_results2.x,M,g[nk:ng+nk]))\n",
    "\n",
    "    # Create Toeplitz matrix for H transfer function realization\n",
    "    if nc==0 and nd==0:\n",
    "        thetaCD = []\n",
    "    elif nc>0 and nd>0:\n",
    "        Ch = np.array(sp.linalg.toeplitz(h[0:nh],r=np.concatenate(([1],np.zeros(nd-1)))))\n",
    "        Meye = np.concatenate((np.eye(nc), np.zeros((nh-nc,nc))),axis=0)\n",
    "        M = np.concatenate((Meye,-Ch),axis=1)\n",
    "        thetaCD = np.linalg.inv( M.T @ M ) @ (M.T @ h[1:nh+1] )\n",
    "\n",
    "    theta = np.concatenate((thetaBA[0:nb], thetaCD, thetaBA[nb:nb+na]))\n",
    "    theta1 = np.concatenate((optimization_results1.x[0:nb], thetaCD, optimization_results1.x[nb:nb+na]))\n",
    "    theta2 = np.concatenate((optimization_results2.x[0:nb], thetaCD, optimization_results2.x[nb:nb+na]))\n",
    "\n",
    "    G_est, H_est = sid.theta_2_tf_box_jenkins(theta,n_bj,1)\n",
    "    G_est1, H_est1 = sid.theta_2_tf_box_jenkins(theta1,n_bj,1)\n",
    "    G_est2, H_est2 = sid.theta_2_tf_box_jenkins(theta2,n_bj,1)\n",
    "\n",
    "    print(G_est)\n",
    "    print(G_est.poles())\n",
    "    print(G_est1)\n",
    "    print(G_est1.poles())\n",
    "    print(G_est2)\n",
    "    print(G_est2.poles())\n",
    "\n",
    "    return theta\n",
    "\n",
    "theta_init_bj = tf_realization_GH(g_imp_est_zero_padded,h_imp_est,n_bj)\n",
    "\n"
   ]
  },
  {
   "cell_type": "code",
   "execution_count": 46,
   "metadata": {},
   "outputs": [
    {
     "name": "stdout",
     "output_type": "stream",
     "text": [
      "G_init: \n",
      "13.29 z^4 + 16.28 z^3 - 17.78 z^2 - 9.533 z + 3.389\n",
      "---------------------------------------------------\n",
      " z^4 - 0.5465 z^3 - 0.51 z^2 + 0.1727 z + 0.002509\n",
      "\n",
      "dt = 1\n",
      "\n",
      "poles: [ 0.89689026+0.j -0.64645583+0.j  0.31000542+0.j -0.01396106+0.j]\n",
      "zeros: [-1.71028104+0.j -0.64884739+0.j  0.87086914+0.j  0.2638134 +0.j]\n"
     ]
    }
   ],
   "source": [
    "optimization_results_bj = sp.optimize.least_squares(sid.V_box_jenkins, theta_init_bj, jac=sid.jac_V_bj, args=(n_bj,y,u))\n",
    "G_est, H_est = sid.theta_2_tf_box_jenkins(optimization_results_bj.x,n_bj,1)\n",
    "tt,g_est = ct.impulse_response(G_est)\n",
    "\n",
    "print('G_init:', G_est)\n",
    "print('poles:', G_est.poles())\n",
    "print('zeros:', G_est.zeros())"
   ]
  },
  {
   "cell_type": "code",
   "execution_count": 49,
   "metadata": {},
   "outputs": [
    {
     "name": "stdout",
     "output_type": "stream",
     "text": [
      "[13.32524018 23.60874931  1.91563385  1.24522497  0.96710657  0.78884224\n",
      "  0.67773731  0.59372934  0.52325848  0.41427993]\n"
     ]
    },
    {
     "data": {
      "text/plain": [
       "[<matplotlib.lines.Line2D at 0x202fe8e8910>]"
      ]
     },
     "execution_count": 49,
     "metadata": {},
     "output_type": "execute_result"
    },
    {
     "data": {
      "image/png": "[encoded data removed]",
      "text/plain": [
       "<Figure size 640x480 with 2 Axes>"
      ]
     },
     "metadata": {},
     "output_type": "display_data"
    }
   ],
   "source": [
    "print(g_imp_est)\n",
    "fig,ax = plt.subplots(2,1)\n",
    "ax[0].plot(g_init,label='init tf')\n",
    "ax[0].plot(g_imp_est_zero_padded, label='init fir')\n",
    "#ax[0].plot(g_est, label='final')\n",
    "ax[0].legend()\n",
    "#ax[1].plot(g_init[0:15])\n",
    "ax[1].plot(h_imp_est)"
   ]
  },
  {
   "cell_type": "code",
   "execution_count": 51,
   "metadata": {},
   "outputs": [
    {
     "data": {
      "text/plain": [
       "[<matplotlib.lines.Line2D at 0x1fed647b190>]"
      ]
     },
     "execution_count": 51,
     "metadata": {},
     "output_type": "execute_result"
    },
    {
     "data": {
      "image/png": "[encoded data removed]",
      "text/plain": [
       "<Figure size 640x480 with 1 Axes>"
      ]
     },
     "metadata": {},
     "output_type": "display_data"
    }
   ],
   "source": [
    "B,C,D,F = sid.theta_2_BCDF(optimization_results_bj.x,n_bj)\n",
    "G_theta = ct.tf(B, F, True)\n",
    "tt,y_sim = ct.forced_response(G_theta,U=u-u[0])\n",
    "#y_hat = sid.y_hat_box_jenkins(optimization_results_bj.x, n_bj, y-y[0], u-u[0])\n",
    "\n",
    "\n",
    "#y_hat_init = sid.y_hat_box_jenkins(theta_init_bj, n_bj, y-y[0], u-u[0])\n",
    "\n",
    "fig,ax = plt.subplots(1)\n",
    "ax.plot(u-u[0])\n",
    "ax.plot(y-y[0],'k')\n",
    "#ax.plot(y_hat_init,'r--')\n",
    "#ax.plot(y_hat,'g:')\n",
    "ax.plot(y_sim)"
   ]
  },
  {
   "cell_type": "code",
   "execution_count": null,
   "metadata": {},
   "outputs": [],
   "source": []
  }
 ],
 "metadata": {
  "kernelspec": {
   "display_name": "enel441",
   "language": "python",
   "name": "python3"
  },
  "language_info": {
   "codemirror_mode": {
    "name": "ipython",
    "version": 3
   },
   "file_extension": ".py",
   "mimetype": "text/x-python",
   "name": "python",
   "nbconvert_exporter": "python",
   "pygments_lexer": "ipython3",
   "version": "3.10.8"
  }
 },
 "nbformat": 4,
 "nbformat_minor": 2
}
