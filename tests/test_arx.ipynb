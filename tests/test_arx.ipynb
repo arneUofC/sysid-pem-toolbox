{
 "cells": [
  {
   "cell_type": "code",
   "execution_count": 1,
   "metadata": {},
   "outputs": [],
   "source": [
    "import sys\n",
    "import os\n",
    "sys.path.insert(0, os.path.abspath('..'))"
   ]
  },
  {
   "cell_type": "code",
   "execution_count": 2,
   "metadata": {},
   "outputs": [],
   "source": [
    "import control as ct\n",
    "import numpy as np\n",
    "import scipy as sp  \n",
    "import matplotlib.pyplot as plt\n",
    "import sysid_pem_toolbox.sysid_pem as sid\n"
   ]
  },
  {
   "cell_type": "code",
   "execution_count": 3,
   "metadata": {},
   "outputs": [
    {
     "name": "stdout",
     "output_type": "stream",
     "text": [
      "<TransferFunction>: sys[0]\n",
      "Inputs (1): ['u[0]']\n",
      "Outputs (1): ['y[0]']\n",
      "\n",
      "\n",
      "   z - 0.4\n",
      "-------------\n",
      "z^2 - z + 0.5\n",
      "\n",
      "dt = 0.01\n",
      "\n",
      "<TransferFunction>: sys[1]\n",
      "Inputs (1): ['u[0]']\n",
      "Outputs (1): ['y[0]']\n",
      "\n",
      "\n",
      "z - 0.7\n",
      "-------\n",
      "z - 0.9\n",
      "\n",
      "dt = 0.01\n",
      "\n"
     ]
    }
   ],
   "source": [
    "N = 1001\n",
    "t = np.linspace(0,10,N)\n",
    "t = t[0:-1]\n",
    "N = 1000\n",
    "Ts = t[1]-t[0]\n",
    "\n",
    "A0 = np.array([1, -1, 0.5])\n",
    "B0 = np.array([1, -0.4])\n",
    "G0 = ct.tf(B0, A0, Ts)\n",
    "print(G0)\n",
    "\n",
    "\n",
    "\n",
    "C0 = np.array([1, -0.7])\n",
    "D0 = np.array([1, -0.9])\n",
    "H0 = ct.tf(C0, D0,Ts)\n",
    "print(H0)\n",
    "\n",
    "# input 1\n",
    "r = np.random.randn(N)\n",
    "e = np.random.randn(N)\n",
    "\n",
    "tt, v = ct.forced_response(H0,T=t,U=e)\n",
    "tt, y = ct.forced_response(G0,T=t,U=r)\n",
    "y = y # + v\n",
    "\n"
   ]
  },
  {
   "cell_type": "code",
   "execution_count": 4,
   "metadata": {},
   "outputs": [],
   "source": [
    "nb = 2\n",
    "na = 2\n",
    "nk = 1\n",
    "n_arx = [na, nb, nk]\n",
    "\n",
    "theta = sid.V_arx_lin_reg(n_arx,y,r)\n",
    "\n",
    "A = theta[0:na]\n",
    "B = theta[na:nb+na]"
   ]
  },
  {
   "cell_type": "code",
   "execution_count": 5,
   "metadata": {},
   "outputs": [
    {
     "name": "stdout",
     "output_type": "stream",
     "text": [
      "[-1.   0.5]\n",
      "[ 1.  -0.4]\n",
      "<TransferFunction>: sys[4]\n",
      "Inputs (1): ['u[0]']\n",
      "Outputs (1): ['y[0]']\n",
      "\n",
      "\n",
      "   z^2 - 0.4 z\n",
      "-----------------\n",
      "z^3 - z^2 + 0.5 z\n",
      "\n",
      "dt = 0.01\n",
      "\n"
     ]
    }
   ],
   "source": [
    "print(A)\n",
    "print(B)\n",
    "\n",
    "G_est, Hest = sid.theta_2_tf_arx(theta,n_arx,Ts)\n",
    "print(G_est)"
   ]
  },
  {
   "cell_type": "code",
   "execution_count": null,
   "metadata": {},
   "outputs": [],
   "source": []
  },
  {
   "cell_type": "code",
   "execution_count": null,
   "metadata": {},
   "outputs": [],
   "source": []
  },
  {
   "cell_type": "code",
   "execution_count": null,
   "metadata": {},
   "outputs": [],
   "source": []
  },
  {
   "cell_type": "code",
   "execution_count": null,
   "metadata": {},
   "outputs": [],
   "source": []
  }
 ],
 "metadata": {
  "kernelspec": {
   "display_name": "sysenv",
   "language": "python",
   "name": "python3"
  },
  "language_info": {
   "codemirror_mode": {
    "name": "ipython",
    "version": 3
   },
   "file_extension": ".py",
   "mimetype": "text/x-python",
   "name": "python",
   "nbconvert_exporter": "python",
   "pygments_lexer": "ipython3",
   "version": "3.12.5"
  }
 },
 "nbformat": 4,
 "nbformat_minor": 2
}
